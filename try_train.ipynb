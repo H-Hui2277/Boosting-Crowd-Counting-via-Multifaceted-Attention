{
 "cells": [
  {
   "cell_type": "code",
   "execution_count": 1,
   "metadata": {},
   "outputs": [],
   "source": [
    "# !python -u train.py --data-dir=\"D:\\VS Code\\github-workspace\\Boosting-Crowd-Counting-via-Multifaceted-Attention\\UCF-Train-Val-Test\" "
   ]
  },
  {
   "cell_type": "code",
   "execution_count": 2,
   "metadata": {},
   "outputs": [],
   "source": [
    "from utils.regression_trainer_cosine import RegTrainer\n",
    "import os\n",
    "import torch"
   ]
  },
  {
   "cell_type": "code",
   "execution_count": 3,
   "metadata": {},
   "outputs": [],
   "source": [
    "class Args(object):\n",
    "    def __init__(self) -> None:\n",
    "        # Settings for model and data\n",
    "        self.model_name = \"vgg19_trans\"\n",
    "        self.data_dir = \"./UCF-Train-Val-Test/\"\n",
    "        # Settings for saving\n",
    "        self.save_dir = \"model\"\n",
    "        self.save_all = False\n",
    "        self.lr = 5*1e-6\n",
    "        # Settings for training model\n",
    "        self.weight_decay = 1e-5\n",
    "        self.resume = \"\"\n",
    "        self.max_model_num = 1\n",
    "        self.max_epoch = 1200\n",
    "        self.val_epoch = 5\n",
    "        self.val_start = 600\n",
    "        self.batch_size = 1\n",
    "        self.device = \"0\"\n",
    "        self.num_workers = 8\n",
    "        # Others\n",
    "        self.is_gray = False\n",
    "        self.crop_size = 512\n",
    "        self.downsample_ratio = 16\n",
    "        self.use_background = True\n",
    "        self.sigma = 8.0\n",
    "        self.background_ratio = 0.15\n",
    "args = Args()"
   ]
  },
  {
   "cell_type": "code",
   "execution_count": 4,
   "metadata": {},
   "outputs": [
    {
     "name": "stderr",
     "output_type": "stream",
     "text": [
      "02-23 15:12:51 model_name: vgg19_trans\n",
      "02-23 15:12:51 data_dir: ./UCF-Train-Val-Test/\n",
      "02-23 15:12:51 save_dir: model\n",
      "02-23 15:12:51 save_all: False\n",
      "02-23 15:12:51 lr: 4.9999999999999996e-06\n",
      "02-23 15:12:51 weight_decay: 1e-05\n",
      "02-23 15:12:51 resume: \n",
      "02-23 15:12:51 max_model_num: 1\n",
      "02-23 15:12:51 max_epoch: 1200\n",
      "02-23 15:12:51 val_epoch: 5\n",
      "02-23 15:12:51 val_start: 600\n",
      "02-23 15:12:51 batch_size: 1\n",
      "02-23 15:12:51 device: cpu\n",
      "02-23 15:12:51 num_workers: 8\n",
      "02-23 15:12:51 is_gray: False\n",
      "02-23 15:12:51 crop_size: 512\n",
      "02-23 15:12:51 downsample_ratio: 16\n",
      "02-23 15:12:51 use_background: True\n",
      "02-23 15:12:51 sigma: 8.0\n",
      "02-23 15:12:51 background_ratio: 0.15\n",
      "02-23 15:12:51 using cpu for training\n",
      "Downloading: \"https://download.pytorch.org/models/vgg19-dcbb9e9d.pth\" to C:\\Users\\Administrator/.cache\\torch\\hub\\checkpoints\\vgg19-dcbb9e9d.pth\n"
     ]
    },
    {
     "data": {
      "application/vnd.jupyter.widget-view+json": {
       "model_id": "7a4c3d35815641d3bd69124b410784b0",
       "version_major": 2,
       "version_minor": 0
      },
      "text/plain": [
       "  0%|          | 0.00/548M [00:00<?, ?B/s]"
      ]
     },
     "metadata": {},
     "output_type": "display_data"
    },
    {
     "name": "stderr",
     "output_type": "stream",
     "text": [
      "02-23 15:14:03 -----Epoch 0/1199-----\n",
      "d:\\Program\\Conda\\envs\\py\\lib\\site-packages\\torch\\nn\\functional.py:3253: UserWarning: nn.functional.upsample_bilinear is deprecated. Use nn.functional.interpolate instead.\n",
      "  warnings.warn(\"nn.functional.upsample_bilinear is deprecated. Use nn.functional.interpolate instead.\")\n"
     ]
    }
   ],
   "source": [
    "args.device = \"cpu\"\n",
    "torch.backends.cudnn.benchmark = True\n",
    "os.environ['CUDA_VISIBLE_DEVICES'] = args.device.strip()\n",
    "trainer = RegTrainer(args)\n",
    "trainer.setup()\n",
    "trainer.train()"
   ]
  }
 ],
 "metadata": {
  "kernelspec": {
   "display_name": "py",
   "language": "python",
   "name": "python3"
  },
  "language_info": {
   "codemirror_mode": {
    "name": "ipython",
    "version": 3
   },
   "file_extension": ".py",
   "mimetype": "text/x-python",
   "name": "python",
   "nbconvert_exporter": "python",
   "pygments_lexer": "ipython3",
   "version": "3.8.13"
  },
  "orig_nbformat": 4,
  "vscode": {
   "interpreter": {
    "hash": "cb8a2b2386c3df55715ecd8c8ce953e91f74eb50976ed75122b51edf92ec6bd3"
   }
  }
 },
 "nbformat": 4,
 "nbformat_minor": 2
}
