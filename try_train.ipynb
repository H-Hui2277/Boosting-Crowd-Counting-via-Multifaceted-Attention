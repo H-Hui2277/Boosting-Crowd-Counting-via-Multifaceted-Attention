{
 "cells": [
  {
   "cell_type": "code",
   "execution_count": 2,
   "metadata": {},
   "outputs": [],
   "source": [
    "!python -u train.py --data-dir=\"D:\\VS Code\\github-workspace\\Boosting-Crowd-Counting-via-Multifaceted-Attention\\UCF-Train-Val-Test\" "
   ]
  }
 ],
 "metadata": {
  "kernelspec": {
   "display_name": "Python 3.8.13 ('action')",
   "language": "python",
   "name": "python3"
  },
  "language_info": {
   "codemirror_mode": {
    "name": "ipython",
    "version": 3
   },
   "file_extension": ".py",
   "mimetype": "text/x-python",
   "name": "python",
   "nbconvert_exporter": "python",
   "pygments_lexer": "ipython3",
   "version": "3.8.13"
  },
  "orig_nbformat": 4,
  "vscode": {
   "interpreter": {
    "hash": "1ec49589532473b7bb52b16885db8fbf92a14b518c0c5b08e508a9d0dcacf09a"
   }
  }
 },
 "nbformat": 4,
 "nbformat_minor": 2
}
