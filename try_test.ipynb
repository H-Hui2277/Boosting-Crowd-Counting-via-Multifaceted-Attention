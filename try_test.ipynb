{
 "cells": [
  {
   "attachments": {},
   "cell_type": "markdown",
   "metadata": {},
   "source": [
    "## 整合Test代码"
   ]
  },
  {
   "cell_type": "code",
   "execution_count": null,
   "metadata": {},
   "outputs": [],
   "source": [
    "import torch\n",
    "import os\n",
    "import numpy as np\n",
    "from datasets.crowd import Crowd\n",
    "from models.vgg_c import vgg19_trans\n",
    "import argparse\n",
    "import math"
   ]
  },
  {
   "cell_type": "code",
   "execution_count": null,
   "metadata": {},
   "outputs": [],
   "source": [
    "class Args(object):\n",
    "    def __init__(self):\n",
    "        self.data_dir = \"\"\n",
    "        self.save_dir = \"\"\n",
    "        self.device = 0\n",
    "args = Args()"
   ]
  },
  {
   "cell_type": "code",
   "execution_count": null,
   "metadata": {},
   "outputs": [],
   "source": [
    "os.environ['CUDA_VISIBLE_DEVICES'] = args.device.strip()\n",
    "datasets = Crowd(os.path.join(args.data_dir, 'test'), 512, 8, is_gray=False, method='val')\n",
    "dataloader = torch.utils.data.DataLoader(datasets, 1, shuffle=False,\n",
    "                                             num_workers=8, pin_memory=False)\n",
    "device = torch.device('cuda')\n",
    "model = vgg19_trans()\n",
    "model.to(device)\n",
    "model.eval()\n",
    "model.load_state_dict(torch.load(args.save_dir, device))\n",
    "epoch_minus = []\n",
    "for inputs, count, name in dataloader:\n",
    "    inputs = inputs.to(device)\n",
    "    b, c, h, w = inputs.shape\n",
    "    h, w = int(h), int(w)\n",
    "    assert b == 1, 'the batch size should equal to 1 in validation mode'\n",
    "    input_list = []\n",
    "    if h >= 3584 or w >= 3584:\n",
    "        h_stride = int(math.ceil(1.0 * h / 3584))\n",
    "        w_stride = int(math.ceil(1.0 * w / 3584))\n",
    "        h_step = h // h_stride\n",
    "        w_step = w // w_stride\n",
    "        for i in range(h_stride):\n",
    "            for j in range(w_stride):\n",
    "                h_start = i * h_step\n",
    "                if i != h_stride - 1:\n",
    "                    h_end = (i + 1) * h_step\n",
    "                else:\n",
    "                    h_end = h\n",
    "                w_start = j * w_step\n",
    "                if j != w_stride - 1:\n",
    "                    w_end = (j + 1) * w_step\n",
    "                else:\n",
    "                    w_end = w\n",
    "                input_list.append(inputs[:, :, h_start:h_end, w_start:w_end])\n",
    "        with torch.set_grad_enabled(False):\n",
    "            pre_count = 0.0\n",
    "            for idx, input in enumerate(input_list):\n",
    "                output = model(input)[0]\n",
    "                pre_count += torch.sum(output)\n",
    "        res = count[0].item() - pre_count.item()\n",
    "        epoch_minus.append(res)\n",
    "    else:\n",
    "        with torch.set_grad_enabled(False):\n",
    "            outputs = model(inputs)[0]\n",
    "            res = count[0].item() - torch.sum(outputs).item()\n",
    "            epoch_minus.append(res)"
   ]
  }
 ],
 "metadata": {
  "kernelspec": {
   "display_name": "py",
   "language": "python",
   "name": "python3"
  },
  "language_info": {
   "name": "python",
   "version": "3.8.13"
  },
  "orig_nbformat": 4,
  "vscode": {
   "interpreter": {
    "hash": "cb8a2b2386c3df55715ecd8c8ce953e91f74eb50976ed75122b51edf92ec6bd3"
   }
  }
 },
 "nbformat": 4,
 "nbformat_minor": 2
}
