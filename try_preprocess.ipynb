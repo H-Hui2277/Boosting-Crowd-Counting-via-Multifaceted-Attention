{
 "cells": [
  {
   "attachments": {},
   "cell_type": "markdown",
   "metadata": {},
   "source": [
    "## Test preprocess functions."
   ]
  },
  {
   "cell_type": "code",
   "execution_count": 1,
   "metadata": {},
   "outputs": [
    {
     "name": "stdout",
     "output_type": "stream",
     "text": [
      "240 274\n"
     ]
    }
   ],
   "source": [
    "im_h = 224\n",
    "im_w = 256\n",
    "min_size = 240\n",
    "max_size = 280\n",
    "# im_h < im_w \n",
    "# im_h < min_size\n",
    "ratio = 1.0 * min_size / im_h\n",
    "im_h = min_size\n",
    "im_w = round(im_w * ratio)\n",
    "print(im_h, im_w)"
   ]
  }
 ],
 "metadata": {
  "kernelspec": {
   "display_name": "py",
   "language": "python",
   "name": "python3"
  },
  "language_info": {
   "codemirror_mode": {
    "name": "ipython",
    "version": 3
   },
   "file_extension": ".py",
   "mimetype": "text/x-python",
   "name": "python",
   "nbconvert_exporter": "python",
   "pygments_lexer": "ipython3",
   "version": "3.8.13"
  },
  "orig_nbformat": 4,
  "vscode": {
   "interpreter": {
    "hash": "cb8a2b2386c3df55715ecd8c8ce953e91f74eb50976ed75122b51edf92ec6bd3"
   }
  }
 },
 "nbformat": 4,
 "nbformat_minor": 2
}
